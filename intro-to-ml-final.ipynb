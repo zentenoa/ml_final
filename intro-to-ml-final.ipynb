{
 "cells": [
  {
   "cell_type": "markdown",
   "id": "f8ea9fcc",
   "metadata": {
    "papermill": {
     "duration": 0.004509,
     "end_time": "2023-10-16T15:32:11.770451",
     "exception": false,
     "start_time": "2023-10-16T15:32:11.765942",
     "status": "completed"
    },
    "tags": []
   },
   "source": [
    "My final will be utilizing the Adult Income Dataset from \n",
    "\n",
    "Becker,Barry and Kohavi,Ronny. (1996). Adult. UCI Machine Learning Repository. https://doi.org/10.24432/C5XW20.\n",
    "\n",
    "The goal is to find a supervised model that will generate the highest prediction and accuracy score in determining if someone makes >50K depending on certain features. We will be referencing between UCI ML Repository and Kaggle"
   ]
  },
  {
   "cell_type": "code",
   "execution_count": 1,
   "id": "ad51bc9e",
   "metadata": {
    "_cell_guid": "b1076dfc-b9ad-4769-8c92-a6c4dae69d19",
    "_uuid": "8f2839f25d086af736a60e9eeb907d3b93b6e0e5",
    "execution": {
     "iopub.execute_input": "2023-10-16T15:32:11.782894Z",
     "iopub.status.busy": "2023-10-16T15:32:11.782274Z",
     "iopub.status.idle": "2023-10-16T15:32:15.579632Z",
     "shell.execute_reply": "2023-10-16T15:32:15.578546Z"
    },
    "papermill": {
     "duration": 3.805576,
     "end_time": "2023-10-16T15:32:15.581900",
     "exception": false,
     "start_time": "2023-10-16T15:32:11.776324",
     "status": "completed"
    },
    "tags": []
   },
   "outputs": [
    {
     "name": "stdout",
     "output_type": "stream",
     "text": [
      "/kaggle/input/adult-income-dataset/adult.csv\n"
     ]
    }
   ],
   "source": [
    "# This Python 3 environment comes with many helpful analytics libraries installed\n",
    "# It is defined by the kaggle/python Docker image: https://github.com/kaggle/docker-python\n",
    "# For example, here's several helpful packages to load\n",
    "\n",
    "import numpy as np # linear algebra\n",
    "import pandas as pd # data processing, CSV file I/O (e.g. pd.read_csv)\n",
    "from sklearn import metrics\n",
    "import statsmodels.api as sm\n",
    "import matplotlib.pyplot as plt\n",
    "import seaborn as sns\n",
    "from sklearn.ensemble import RandomForestClassifier\n",
    "from sklearn.metrics import accuracy_score, confusion_matrix, precision_score, recall_score, ConfusionMatrixDisplay, classification_report\n",
    "from sklearn.model_selection import RandomizedSearchCV, train_test_split\n",
    "\n",
    "\n",
    "# Input data files are available in the read-only \"../input/\" directory\n",
    "# For example, running this (by clicking run or pressing Shift+Enter) will list all files under the input directory\n",
    "\n",
    "import os\n",
    "for dirname, _, filenames in os.walk('/kaggle/input'):\n",
    "    for filename in filenames:\n",
    "        print(os.path.join(dirname, filename))\n",
    "\n",
    "# You can write up to 20GB to the current directory (/kaggle/working/) that gets preserved as output when you create a version using \"Save & Run All\" \n",
    "# You can also write temporary files to /kaggle/temp/, but they won't be saved outside of the current session"
   ]
  },
  {
   "cell_type": "markdown",
   "id": "b4cf32d9",
   "metadata": {
    "papermill": {
     "duration": 0.004242,
     "end_time": "2023-10-16T15:32:15.590996",
     "exception": false,
     "start_time": "2023-10-16T15:32:15.586754",
     "status": "completed"
    },
    "tags": []
   },
   "source": [
    "Here we are pulling the dataset from Kaggle; however, we will be referencing UCI Repository for expected results and documentation"
   ]
  },
  {
   "cell_type": "code",
   "execution_count": 2,
   "id": "141b7975",
   "metadata": {
    "execution": {
     "iopub.execute_input": "2023-10-16T15:32:15.601051Z",
     "iopub.status.busy": "2023-10-16T15:32:15.600525Z",
     "iopub.status.idle": "2023-10-16T15:32:15.820749Z",
     "shell.execute_reply": "2023-10-16T15:32:15.819693Z"
    },
    "papermill": {
     "duration": 0.22775,
     "end_time": "2023-10-16T15:32:15.822849",
     "exception": false,
     "start_time": "2023-10-16T15:32:15.595099",
     "status": "completed"
    },
    "tags": []
   },
   "outputs": [
    {
     "data": {
      "text/html": [
       "<div>\n",
       "<style scoped>\n",
       "    .dataframe tbody tr th:only-of-type {\n",
       "        vertical-align: middle;\n",
       "    }\n",
       "\n",
       "    .dataframe tbody tr th {\n",
       "        vertical-align: top;\n",
       "    }\n",
       "\n",
       "    .dataframe thead th {\n",
       "        text-align: right;\n",
       "    }\n",
       "</style>\n",
       "<table border=\"1\" class=\"dataframe\">\n",
       "  <thead>\n",
       "    <tr style=\"text-align: right;\">\n",
       "      <th></th>\n",
       "      <th>age</th>\n",
       "      <th>workclass</th>\n",
       "      <th>fnlwgt</th>\n",
       "      <th>education</th>\n",
       "      <th>educational-num</th>\n",
       "      <th>marital-status</th>\n",
       "      <th>occupation</th>\n",
       "      <th>relationship</th>\n",
       "      <th>race</th>\n",
       "      <th>gender</th>\n",
       "      <th>capital-gain</th>\n",
       "      <th>capital-loss</th>\n",
       "      <th>hours-per-week</th>\n",
       "      <th>native-country</th>\n",
       "      <th>income</th>\n",
       "    </tr>\n",
       "  </thead>\n",
       "  <tbody>\n",
       "    <tr>\n",
       "      <th>0</th>\n",
       "      <td>25</td>\n",
       "      <td>Private</td>\n",
       "      <td>226802</td>\n",
       "      <td>11th</td>\n",
       "      <td>7</td>\n",
       "      <td>Never-married</td>\n",
       "      <td>Machine-op-inspct</td>\n",
       "      <td>Own-child</td>\n",
       "      <td>Black</td>\n",
       "      <td>Male</td>\n",
       "      <td>0</td>\n",
       "      <td>0</td>\n",
       "      <td>40</td>\n",
       "      <td>United-States</td>\n",
       "      <td>&lt;=50K</td>\n",
       "    </tr>\n",
       "    <tr>\n",
       "      <th>1</th>\n",
       "      <td>38</td>\n",
       "      <td>Private</td>\n",
       "      <td>89814</td>\n",
       "      <td>HS-grad</td>\n",
       "      <td>9</td>\n",
       "      <td>Married-civ-spouse</td>\n",
       "      <td>Farming-fishing</td>\n",
       "      <td>Husband</td>\n",
       "      <td>White</td>\n",
       "      <td>Male</td>\n",
       "      <td>0</td>\n",
       "      <td>0</td>\n",
       "      <td>50</td>\n",
       "      <td>United-States</td>\n",
       "      <td>&lt;=50K</td>\n",
       "    </tr>\n",
       "    <tr>\n",
       "      <th>2</th>\n",
       "      <td>28</td>\n",
       "      <td>Local-gov</td>\n",
       "      <td>336951</td>\n",
       "      <td>Assoc-acdm</td>\n",
       "      <td>12</td>\n",
       "      <td>Married-civ-spouse</td>\n",
       "      <td>Protective-serv</td>\n",
       "      <td>Husband</td>\n",
       "      <td>White</td>\n",
       "      <td>Male</td>\n",
       "      <td>0</td>\n",
       "      <td>0</td>\n",
       "      <td>40</td>\n",
       "      <td>United-States</td>\n",
       "      <td>&gt;50K</td>\n",
       "    </tr>\n",
       "    <tr>\n",
       "      <th>3</th>\n",
       "      <td>44</td>\n",
       "      <td>Private</td>\n",
       "      <td>160323</td>\n",
       "      <td>Some-college</td>\n",
       "      <td>10</td>\n",
       "      <td>Married-civ-spouse</td>\n",
       "      <td>Machine-op-inspct</td>\n",
       "      <td>Husband</td>\n",
       "      <td>Black</td>\n",
       "      <td>Male</td>\n",
       "      <td>7688</td>\n",
       "      <td>0</td>\n",
       "      <td>40</td>\n",
       "      <td>United-States</td>\n",
       "      <td>&gt;50K</td>\n",
       "    </tr>\n",
       "    <tr>\n",
       "      <th>4</th>\n",
       "      <td>18</td>\n",
       "      <td>NaN</td>\n",
       "      <td>103497</td>\n",
       "      <td>Some-college</td>\n",
       "      <td>10</td>\n",
       "      <td>Never-married</td>\n",
       "      <td>NaN</td>\n",
       "      <td>Own-child</td>\n",
       "      <td>White</td>\n",
       "      <td>Female</td>\n",
       "      <td>0</td>\n",
       "      <td>0</td>\n",
       "      <td>30</td>\n",
       "      <td>United-States</td>\n",
       "      <td>&lt;=50K</td>\n",
       "    </tr>\n",
       "  </tbody>\n",
       "</table>\n",
       "</div>"
      ],
      "text/plain": [
       "   age  workclass  fnlwgt     education  educational-num      marital-status  \\\n",
       "0   25    Private  226802          11th                7       Never-married   \n",
       "1   38    Private   89814       HS-grad                9  Married-civ-spouse   \n",
       "2   28  Local-gov  336951    Assoc-acdm               12  Married-civ-spouse   \n",
       "3   44    Private  160323  Some-college               10  Married-civ-spouse   \n",
       "4   18        NaN  103497  Some-college               10       Never-married   \n",
       "\n",
       "          occupation relationship   race  gender  capital-gain  capital-loss  \\\n",
       "0  Machine-op-inspct    Own-child  Black    Male             0             0   \n",
       "1    Farming-fishing      Husband  White    Male             0             0   \n",
       "2    Protective-serv      Husband  White    Male             0             0   \n",
       "3  Machine-op-inspct      Husband  Black    Male          7688             0   \n",
       "4                NaN    Own-child  White  Female             0             0   \n",
       "\n",
       "   hours-per-week native-country income  \n",
       "0              40  United-States  <=50K  \n",
       "1              50  United-States  <=50K  \n",
       "2              40  United-States   >50K  \n",
       "3              40  United-States   >50K  \n",
       "4              30  United-States  <=50K  "
      ]
     },
     "execution_count": 2,
     "metadata": {},
     "output_type": "execute_result"
    }
   ],
   "source": [
    "#read the adult dataset from .csv file\n",
    "data = pd.read_csv('/kaggle/input/adult-income-dataset/adult.csv', na_values=['?'])\n",
    "\n",
    "data.head()"
   ]
  },
  {
   "cell_type": "code",
   "execution_count": 3,
   "id": "e8f25058",
   "metadata": {
    "execution": {
     "iopub.execute_input": "2023-10-16T15:32:15.833104Z",
     "iopub.status.busy": "2023-10-16T15:32:15.832754Z",
     "iopub.status.idle": "2023-10-16T15:32:15.879254Z",
     "shell.execute_reply": "2023-10-16T15:32:15.878436Z"
    },
    "papermill": {
     "duration": 0.053719,
     "end_time": "2023-10-16T15:32:15.881133",
     "exception": false,
     "start_time": "2023-10-16T15:32:15.827414",
     "status": "completed"
    },
    "tags": []
   },
   "outputs": [
    {
     "data": {
      "text/html": [
       "<div>\n",
       "<style scoped>\n",
       "    .dataframe tbody tr th:only-of-type {\n",
       "        vertical-align: middle;\n",
       "    }\n",
       "\n",
       "    .dataframe tbody tr th {\n",
       "        vertical-align: top;\n",
       "    }\n",
       "\n",
       "    .dataframe thead th {\n",
       "        text-align: right;\n",
       "    }\n",
       "</style>\n",
       "<table border=\"1\" class=\"dataframe\">\n",
       "  <thead>\n",
       "    <tr style=\"text-align: right;\">\n",
       "      <th></th>\n",
       "      <th>age</th>\n",
       "      <th>workclass</th>\n",
       "      <th>education</th>\n",
       "      <th>marital-status</th>\n",
       "      <th>occupation</th>\n",
       "      <th>relationship</th>\n",
       "      <th>race</th>\n",
       "      <th>gender</th>\n",
       "      <th>income</th>\n",
       "    </tr>\n",
       "  </thead>\n",
       "  <tbody>\n",
       "    <tr>\n",
       "      <th>0</th>\n",
       "      <td>25</td>\n",
       "      <td>Private</td>\n",
       "      <td>11th</td>\n",
       "      <td>Never-married</td>\n",
       "      <td>Machine-op-inspct</td>\n",
       "      <td>Own-child</td>\n",
       "      <td>Black</td>\n",
       "      <td>Male</td>\n",
       "      <td>&lt;=50K</td>\n",
       "    </tr>\n",
       "    <tr>\n",
       "      <th>1</th>\n",
       "      <td>38</td>\n",
       "      <td>Private</td>\n",
       "      <td>HS-grad</td>\n",
       "      <td>Married-civ-spouse</td>\n",
       "      <td>Farming-fishing</td>\n",
       "      <td>Husband</td>\n",
       "      <td>White</td>\n",
       "      <td>Male</td>\n",
       "      <td>&lt;=50K</td>\n",
       "    </tr>\n",
       "    <tr>\n",
       "      <th>2</th>\n",
       "      <td>28</td>\n",
       "      <td>Local-gov</td>\n",
       "      <td>Assoc-acdm</td>\n",
       "      <td>Married-civ-spouse</td>\n",
       "      <td>Protective-serv</td>\n",
       "      <td>Husband</td>\n",
       "      <td>White</td>\n",
       "      <td>Male</td>\n",
       "      <td>&gt;50K</td>\n",
       "    </tr>\n",
       "    <tr>\n",
       "      <th>3</th>\n",
       "      <td>44</td>\n",
       "      <td>Private</td>\n",
       "      <td>Some-college</td>\n",
       "      <td>Married-civ-spouse</td>\n",
       "      <td>Machine-op-inspct</td>\n",
       "      <td>Husband</td>\n",
       "      <td>Black</td>\n",
       "      <td>Male</td>\n",
       "      <td>&gt;50K</td>\n",
       "    </tr>\n",
       "    <tr>\n",
       "      <th>5</th>\n",
       "      <td>34</td>\n",
       "      <td>Private</td>\n",
       "      <td>10th</td>\n",
       "      <td>Never-married</td>\n",
       "      <td>Other-service</td>\n",
       "      <td>Not-in-family</td>\n",
       "      <td>White</td>\n",
       "      <td>Male</td>\n",
       "      <td>&lt;=50K</td>\n",
       "    </tr>\n",
       "    <tr>\n",
       "      <th>...</th>\n",
       "      <td>...</td>\n",
       "      <td>...</td>\n",
       "      <td>...</td>\n",
       "      <td>...</td>\n",
       "      <td>...</td>\n",
       "      <td>...</td>\n",
       "      <td>...</td>\n",
       "      <td>...</td>\n",
       "      <td>...</td>\n",
       "    </tr>\n",
       "    <tr>\n",
       "      <th>48837</th>\n",
       "      <td>27</td>\n",
       "      <td>Private</td>\n",
       "      <td>Assoc-acdm</td>\n",
       "      <td>Married-civ-spouse</td>\n",
       "      <td>Tech-support</td>\n",
       "      <td>Wife</td>\n",
       "      <td>White</td>\n",
       "      <td>Female</td>\n",
       "      <td>&lt;=50K</td>\n",
       "    </tr>\n",
       "    <tr>\n",
       "      <th>48838</th>\n",
       "      <td>40</td>\n",
       "      <td>Private</td>\n",
       "      <td>HS-grad</td>\n",
       "      <td>Married-civ-spouse</td>\n",
       "      <td>Machine-op-inspct</td>\n",
       "      <td>Husband</td>\n",
       "      <td>White</td>\n",
       "      <td>Male</td>\n",
       "      <td>&gt;50K</td>\n",
       "    </tr>\n",
       "    <tr>\n",
       "      <th>48839</th>\n",
       "      <td>58</td>\n",
       "      <td>Private</td>\n",
       "      <td>HS-grad</td>\n",
       "      <td>Widowed</td>\n",
       "      <td>Adm-clerical</td>\n",
       "      <td>Unmarried</td>\n",
       "      <td>White</td>\n",
       "      <td>Female</td>\n",
       "      <td>&lt;=50K</td>\n",
       "    </tr>\n",
       "    <tr>\n",
       "      <th>48840</th>\n",
       "      <td>22</td>\n",
       "      <td>Private</td>\n",
       "      <td>HS-grad</td>\n",
       "      <td>Never-married</td>\n",
       "      <td>Adm-clerical</td>\n",
       "      <td>Own-child</td>\n",
       "      <td>White</td>\n",
       "      <td>Male</td>\n",
       "      <td>&lt;=50K</td>\n",
       "    </tr>\n",
       "    <tr>\n",
       "      <th>48841</th>\n",
       "      <td>52</td>\n",
       "      <td>Self-emp-inc</td>\n",
       "      <td>HS-grad</td>\n",
       "      <td>Married-civ-spouse</td>\n",
       "      <td>Exec-managerial</td>\n",
       "      <td>Wife</td>\n",
       "      <td>White</td>\n",
       "      <td>Female</td>\n",
       "      <td>&gt;50K</td>\n",
       "    </tr>\n",
       "  </tbody>\n",
       "</table>\n",
       "<p>46033 rows × 9 columns</p>\n",
       "</div>"
      ],
      "text/plain": [
       "       age     workclass     education      marital-status         occupation  \\\n",
       "0       25       Private          11th       Never-married  Machine-op-inspct   \n",
       "1       38       Private       HS-grad  Married-civ-spouse    Farming-fishing   \n",
       "2       28     Local-gov    Assoc-acdm  Married-civ-spouse    Protective-serv   \n",
       "3       44       Private  Some-college  Married-civ-spouse  Machine-op-inspct   \n",
       "5       34       Private          10th       Never-married      Other-service   \n",
       "...    ...           ...           ...                 ...                ...   \n",
       "48837   27       Private    Assoc-acdm  Married-civ-spouse       Tech-support   \n",
       "48838   40       Private       HS-grad  Married-civ-spouse  Machine-op-inspct   \n",
       "48839   58       Private       HS-grad             Widowed       Adm-clerical   \n",
       "48840   22       Private       HS-grad       Never-married       Adm-clerical   \n",
       "48841   52  Self-emp-inc       HS-grad  Married-civ-spouse    Exec-managerial   \n",
       "\n",
       "        relationship   race  gender income  \n",
       "0          Own-child  Black    Male  <=50K  \n",
       "1            Husband  White    Male  <=50K  \n",
       "2            Husband  White    Male   >50K  \n",
       "3            Husband  Black    Male   >50K  \n",
       "5      Not-in-family  White    Male  <=50K  \n",
       "...              ...    ...     ...    ...  \n",
       "48837           Wife  White  Female  <=50K  \n",
       "48838        Husband  White    Male   >50K  \n",
       "48839      Unmarried  White  Female  <=50K  \n",
       "48840      Own-child  White    Male  <=50K  \n",
       "48841           Wife  White  Female   >50K  \n",
       "\n",
       "[46033 rows x 9 columns]"
      ]
     },
     "execution_count": 3,
     "metadata": {},
     "output_type": "execute_result"
    }
   ],
   "source": [
    "#creating DataFrame\n",
    "df = pd.DataFrame(data)\n",
    "\n",
    "#dropping unused columns and rows with missing values\n",
    "df = df.drop(['fnlwgt', 'educational-num', 'capital-gain', 'capital-loss', 'hours-per-week', 'native-country'], axis=1)\n",
    "df.dropna(inplace=True)\n",
    "df"
   ]
  },
  {
   "cell_type": "markdown",
   "id": "489e751e",
   "metadata": {
    "papermill": {
     "duration": 0.004624,
     "end_time": "2023-10-16T15:32:15.890549",
     "exception": false,
     "start_time": "2023-10-16T15:32:15.885925",
     "status": "completed"
    },
    "tags": []
   },
   "source": [
    "We will need to convert the former object types into numerical references for the training model. We will assign each variable under [0,1,2...]"
   ]
  },
  {
   "cell_type": "code",
   "execution_count": 4,
   "id": "945aa316",
   "metadata": {
    "execution": {
     "iopub.execute_input": "2023-10-16T15:32:15.901474Z",
     "iopub.status.busy": "2023-10-16T15:32:15.900932Z",
     "iopub.status.idle": "2023-10-16T15:32:15.955873Z",
     "shell.execute_reply": "2023-10-16T15:32:15.954886Z"
    },
    "papermill": {
     "duration": 0.062855,
     "end_time": "2023-10-16T15:32:15.958006",
     "exception": false,
     "start_time": "2023-10-16T15:32:15.895151",
     "status": "completed"
    },
    "tags": []
   },
   "outputs": [
    {
     "data": {
      "text/html": [
       "<div>\n",
       "<style scoped>\n",
       "    .dataframe tbody tr th:only-of-type {\n",
       "        vertical-align: middle;\n",
       "    }\n",
       "\n",
       "    .dataframe tbody tr th {\n",
       "        vertical-align: top;\n",
       "    }\n",
       "\n",
       "    .dataframe thead th {\n",
       "        text-align: right;\n",
       "    }\n",
       "</style>\n",
       "<table border=\"1\" class=\"dataframe\">\n",
       "  <thead>\n",
       "    <tr style=\"text-align: right;\">\n",
       "      <th></th>\n",
       "      <th>age</th>\n",
       "      <th>workclass</th>\n",
       "      <th>education</th>\n",
       "      <th>marital-status</th>\n",
       "      <th>occupation</th>\n",
       "      <th>relationship</th>\n",
       "      <th>race</th>\n",
       "      <th>gender</th>\n",
       "      <th>income</th>\n",
       "    </tr>\n",
       "  </thead>\n",
       "  <tbody>\n",
       "    <tr>\n",
       "      <th>0</th>\n",
       "      <td>25</td>\n",
       "      <td>5</td>\n",
       "      <td>11</td>\n",
       "      <td>5</td>\n",
       "      <td>6</td>\n",
       "      <td>5</td>\n",
       "      <td>0</td>\n",
       "      <td>0</td>\n",
       "      <td>0</td>\n",
       "    </tr>\n",
       "    <tr>\n",
       "      <th>1</th>\n",
       "      <td>38</td>\n",
       "      <td>5</td>\n",
       "      <td>3</td>\n",
       "      <td>2</td>\n",
       "      <td>1</td>\n",
       "      <td>4</td>\n",
       "      <td>3</td>\n",
       "      <td>0</td>\n",
       "      <td>0</td>\n",
       "    </tr>\n",
       "    <tr>\n",
       "      <th>2</th>\n",
       "      <td>28</td>\n",
       "      <td>4</td>\n",
       "      <td>9</td>\n",
       "      <td>2</td>\n",
       "      <td>14</td>\n",
       "      <td>4</td>\n",
       "      <td>3</td>\n",
       "      <td>0</td>\n",
       "      <td>1</td>\n",
       "    </tr>\n",
       "    <tr>\n",
       "      <th>3</th>\n",
       "      <td>44</td>\n",
       "      <td>5</td>\n",
       "      <td>0</td>\n",
       "      <td>2</td>\n",
       "      <td>6</td>\n",
       "      <td>4</td>\n",
       "      <td>0</td>\n",
       "      <td>0</td>\n",
       "      <td>1</td>\n",
       "    </tr>\n",
       "    <tr>\n",
       "      <th>5</th>\n",
       "      <td>34</td>\n",
       "      <td>5</td>\n",
       "      <td>13</td>\n",
       "      <td>5</td>\n",
       "      <td>13</td>\n",
       "      <td>0</td>\n",
       "      <td>3</td>\n",
       "      <td>0</td>\n",
       "      <td>0</td>\n",
       "    </tr>\n",
       "    <tr>\n",
       "      <th>...</th>\n",
       "      <td>...</td>\n",
       "      <td>...</td>\n",
       "      <td>...</td>\n",
       "      <td>...</td>\n",
       "      <td>...</td>\n",
       "      <td>...</td>\n",
       "      <td>...</td>\n",
       "      <td>...</td>\n",
       "      <td>...</td>\n",
       "    </tr>\n",
       "    <tr>\n",
       "      <th>48837</th>\n",
       "      <td>27</td>\n",
       "      <td>5</td>\n",
       "      <td>9</td>\n",
       "      <td>2</td>\n",
       "      <td>2</td>\n",
       "      <td>1</td>\n",
       "      <td>3</td>\n",
       "      <td>1</td>\n",
       "      <td>0</td>\n",
       "    </tr>\n",
       "    <tr>\n",
       "      <th>48838</th>\n",
       "      <td>40</td>\n",
       "      <td>5</td>\n",
       "      <td>3</td>\n",
       "      <td>2</td>\n",
       "      <td>6</td>\n",
       "      <td>4</td>\n",
       "      <td>3</td>\n",
       "      <td>0</td>\n",
       "      <td>1</td>\n",
       "    </tr>\n",
       "    <tr>\n",
       "      <th>48839</th>\n",
       "      <td>58</td>\n",
       "      <td>5</td>\n",
       "      <td>3</td>\n",
       "      <td>1</td>\n",
       "      <td>3</td>\n",
       "      <td>3</td>\n",
       "      <td>3</td>\n",
       "      <td>1</td>\n",
       "      <td>0</td>\n",
       "    </tr>\n",
       "    <tr>\n",
       "      <th>48840</th>\n",
       "      <td>22</td>\n",
       "      <td>5</td>\n",
       "      <td>3</td>\n",
       "      <td>5</td>\n",
       "      <td>3</td>\n",
       "      <td>5</td>\n",
       "      <td>3</td>\n",
       "      <td>0</td>\n",
       "      <td>0</td>\n",
       "    </tr>\n",
       "    <tr>\n",
       "      <th>48841</th>\n",
       "      <td>52</td>\n",
       "      <td>0</td>\n",
       "      <td>3</td>\n",
       "      <td>2</td>\n",
       "      <td>7</td>\n",
       "      <td>1</td>\n",
       "      <td>3</td>\n",
       "      <td>1</td>\n",
       "      <td>1</td>\n",
       "    </tr>\n",
       "  </tbody>\n",
       "</table>\n",
       "<p>46033 rows × 9 columns</p>\n",
       "</div>"
      ],
      "text/plain": [
       "       age  workclass  education  marital-status  occupation  relationship  \\\n",
       "0       25          5         11               5           6             5   \n",
       "1       38          5          3               2           1             4   \n",
       "2       28          4          9               2          14             4   \n",
       "3       44          5          0               2           6             4   \n",
       "5       34          5         13               5          13             0   \n",
       "...    ...        ...        ...             ...         ...           ...   \n",
       "48837   27          5          9               2           2             1   \n",
       "48838   40          5          3               2           6             4   \n",
       "48839   58          5          3               1           3             3   \n",
       "48840   22          5          3               5           3             5   \n",
       "48841   52          0          3               2           7             1   \n",
       "\n",
       "       race  gender  income  \n",
       "0         0       0       0  \n",
       "1         3       0       0  \n",
       "2         3       0       1  \n",
       "3         0       0       1  \n",
       "5         3       0       0  \n",
       "...     ...     ...     ...  \n",
       "48837     3       1       0  \n",
       "48838     3       0       1  \n",
       "48839     3       1       0  \n",
       "48840     3       0       0  \n",
       "48841     3       1       1  \n",
       "\n",
       "[46033 rows x 9 columns]"
      ]
     },
     "execution_count": 4,
     "metadata": {},
     "output_type": "execute_result"
    }
   ],
   "source": [
    "#changing all values in dataset to integers for RF \n",
    "df['income'] = df['income'].map({'<=50K': 0, '>50K': 1}).astype(int)\n",
    "\n",
    "df['workclass'] = df['workclass'].map({'Self-emp-inc': 0, 'State-gov': 1,'Federal-gov': 2, 'Without-pay': 3, 'Local-gov': 4,'Private': 5, 'Self-emp-not-inc': 6}).astype(int)\n",
    "df['education'] = df['education'].map({'Some-college': 0, 'Preschool': 1, '5th-6th': 2, 'HS-grad': 3, 'Masters': 4, '12th': 5, '7th-8th': 6, 'Prof-school': 7,'1st-4th': 8, 'Assoc-acdm': 9, 'Doctorate': 10, '11th': 11,'Bachelors': 12, '10th': 13,'Assoc-voc': 14,'9th': 15}).astype(int)\n",
    "df['marital-status'] = df['marital-status'].map({'Married-spouse-absent': 0, 'Widowed': 1, 'Married-civ-spouse': 2, 'Separated': 3, 'Divorced': 4,'Never-married': 5, 'Married-AF-spouse': 6}).astype(int)\n",
    "df['occupation'] = df['occupation'].map({ 'Farming-fishing': 1, 'Tech-support': 2, 'Adm-clerical': 3, 'Handlers-cleaners': 4, \n",
    " 'Prof-specialty': 5,'Machine-op-inspct': 6, 'Exec-managerial': 7,'Priv-house-serv': 8,'Craft-repair': 9,'Sales': 10, 'Transport-moving': 11, 'Armed-Forces': 12, 'Other-service': 13,'Protective-serv':14}).astype(int)\n",
    "df['relationship'] = df['relationship'].map({'Not-in-family': 0, 'Wife': 1, 'Other-relative': 2, 'Unmarried': 3,'Husband': 4,'Own-child': 5}).astype(int)\n",
    "df['race'] = df['race'].map({'Black': 0, 'Asian-Pac-Islander': 1, 'Other': 2, 'White': 3, 'Amer-Indian-Eskimo': 4}).astype(int)\n",
    "df['gender'] = df['gender'].map({'Male': 0, 'Female': 1}).astype(int)\n",
    "df"
   ]
  },
  {
   "cell_type": "markdown",
   "id": "2cb2f4e8",
   "metadata": {
    "papermill": {
     "duration": 0.004793,
     "end_time": "2023-10-16T15:32:15.967977",
     "exception": false,
     "start_time": "2023-10-16T15:32:15.963184",
     "status": "completed"
    },
    "tags": []
   },
   "source": [
    "Here, we will split the dataset into 80:20, .80 of the data will be utilized for training the model, while .20 (default) will be used to test the model and generate y_pred. "
   ]
  },
  {
   "cell_type": "code",
   "execution_count": 5,
   "id": "7bf63fa2",
   "metadata": {
    "execution": {
     "iopub.execute_input": "2023-10-16T15:32:15.979605Z",
     "iopub.status.busy": "2023-10-16T15:32:15.979178Z",
     "iopub.status.idle": "2023-10-16T15:32:15.996274Z",
     "shell.execute_reply": "2023-10-16T15:32:15.995167Z"
    },
    "papermill": {
     "duration": 0.025616,
     "end_time": "2023-10-16T15:32:15.998448",
     "exception": false,
     "start_time": "2023-10-16T15:32:15.972832",
     "status": "completed"
    },
    "tags": []
   },
   "outputs": [],
   "source": [
    "# Split the data into features and target\n",
    "X = df.drop('income', axis=1)\n",
    "y = df['income']\n",
    "\n",
    "# Split the data into training and test sets\n",
    "X_train, X_test, y_train, y_test = train_test_split(X, y, test_size=0.2)"
   ]
  },
  {
   "cell_type": "code",
   "execution_count": 6,
   "id": "f0d048ff",
   "metadata": {
    "execution": {
     "iopub.execute_input": "2023-10-16T15:32:16.010004Z",
     "iopub.status.busy": "2023-10-16T15:32:16.009661Z",
     "iopub.status.idle": "2023-10-16T15:32:19.132865Z",
     "shell.execute_reply": "2023-10-16T15:32:19.131730Z"
    },
    "papermill": {
     "duration": 3.132878,
     "end_time": "2023-10-16T15:32:19.136442",
     "exception": false,
     "start_time": "2023-10-16T15:32:16.003564",
     "status": "completed"
    },
    "tags": []
   },
   "outputs": [
    {
     "name": "stdout",
     "output_type": "stream",
     "text": [
      "Random Forest Score: 0.8050396437493211\n"
     ]
    },
    {
     "data": {
      "text/plain": [
       "array([[6211,  755],\n",
       "       [1040, 1201]])"
      ]
     },
     "execution_count": 6,
     "metadata": {},
     "output_type": "execute_result"
    }
   ],
   "source": [
    "#build the RandomForest model\n",
    "rf = RandomForestClassifier()\n",
    "rf.fit(X_train, y_train)\n",
    "rf_score = rf.score(X_test, y_test)\n",
    "\n",
    "print(\"Random Forest Score: \" + str(rf_score))\n",
    "#get prediction\n",
    "y_pred = rf.predict(X_test)\n",
    "\n",
    "\n",
    "# Confusion matrix for visualization\n",
    "confusion_matrix(y_test, y_pred)"
   ]
  },
  {
   "cell_type": "code",
   "execution_count": 7,
   "id": "9260aa45",
   "metadata": {
    "execution": {
     "iopub.execute_input": "2023-10-16T15:32:19.150548Z",
     "iopub.status.busy": "2023-10-16T15:32:19.149814Z",
     "iopub.status.idle": "2023-10-16T15:32:19.164678Z",
     "shell.execute_reply": "2023-10-16T15:32:19.163867Z"
    },
    "papermill": {
     "duration": 0.024049,
     "end_time": "2023-10-16T15:32:19.166633",
     "exception": false,
     "start_time": "2023-10-16T15:32:19.142584",
     "status": "completed"
    },
    "tags": []
   },
   "outputs": [
    {
     "name": "stdout",
     "output_type": "stream",
     "text": [
      "Accuracy: 0.8050396437493211\n",
      "Precision: 0.6140081799591002\n"
     ]
    }
   ],
   "source": [
    "#calculate accuracy\n",
    "accuracy = accuracy_score(y_test, y_pred)\n",
    "print(\"Accuracy:\", accuracy)\n",
    "\n",
    "#calculate precision\n",
    "precision = precision_score(y_test, y_pred)\n",
    "print(\"Precision:\", precision)"
   ]
  },
  {
   "cell_type": "code",
   "execution_count": 8,
   "id": "07a21c75",
   "metadata": {
    "execution": {
     "iopub.execute_input": "2023-10-16T15:32:19.183419Z",
     "iopub.status.busy": "2023-10-16T15:32:19.182685Z",
     "iopub.status.idle": "2023-10-16T15:32:19.207140Z",
     "shell.execute_reply": "2023-10-16T15:32:19.206003Z"
    },
    "papermill": {
     "duration": 0.034313,
     "end_time": "2023-10-16T15:32:19.209468",
     "exception": false,
     "start_time": "2023-10-16T15:32:19.175155",
     "status": "completed"
    },
    "tags": []
   },
   "outputs": [
    {
     "name": "stdout",
     "output_type": "stream",
     "text": [
      "              precision    recall  f1-score   support\n",
      "\n",
      "           0       0.86      0.89      0.87      6966\n",
      "           1       0.61      0.54      0.57      2241\n",
      "\n",
      "    accuracy                           0.81      9207\n",
      "   macro avg       0.74      0.71      0.72      9207\n",
      "weighted avg       0.80      0.81      0.80      9207\n",
      "\n"
     ]
    }
   ],
   "source": [
    "# Classification report for test data and predictions\n",
    "print(classification_report(y_test, y_pred))"
   ]
  },
  {
   "cell_type": "code",
   "execution_count": 9,
   "id": "57e8810b",
   "metadata": {
    "execution": {
     "iopub.execute_input": "2023-10-16T15:32:19.222203Z",
     "iopub.status.busy": "2023-10-16T15:32:19.221586Z",
     "iopub.status.idle": "2023-10-16T15:32:19.526028Z",
     "shell.execute_reply": "2023-10-16T15:32:19.524906Z"
    },
    "papermill": {
     "duration": 0.313326,
     "end_time": "2023-10-16T15:32:19.528181",
     "exception": false,
     "start_time": "2023-10-16T15:32:19.214855",
     "status": "completed"
    },
    "tags": []
   },
   "outputs": [
    {
     "data": {
      "image/png": "[encoded data removed]",
      "text/plain": [
       "<Figure size 640x480 with 2 Axes>"
      ]
     },
     "metadata": {},
     "output_type": "display_data"
    }
   ],
   "source": [
    "# Get and reshape confusion matrix data\n",
    "matrix = confusion_matrix(y_test, y_pred)\n",
    "matrix = matrix.astype('float') / matrix.sum(axis=1)[:, np.newaxis]\n",
    "\n",
    "# Build the plot\n",
    "plt.figure()\n",
    "sns.heatmap(matrix, annot=True, annot_kws={'size':10})\n",
    "\n",
    "# Add labels to the plot\n",
    "incomes = ['50k and under', 'Over 50k']\n",
    "tick = np.arange(len(incomes))\n",
    "tick2 = tick + 0.5\n",
    "plt.xticks(tick, incomes)\n",
    "plt.yticks(tick2, incomes)\n",
    "plt.xlabel('Predicted')\n",
    "plt.ylabel('True')\n",
    "plt.title('RF Confusion Matrix')\n",
    "plt.show()"
   ]
  },
  {
   "cell_type": "markdown",
   "id": "f7fe46c0",
   "metadata": {
    "papermill": {
     "duration": 0.005525,
     "end_time": "2023-10-16T15:32:19.539485",
     "exception": false,
     "start_time": "2023-10-16T15:32:19.533960",
     "status": "completed"
    },
    "tags": []
   },
   "source": [
    "We use Random Forest versus KNearestNeighbors because the dataset includes serveral features that a Random Forest model would support. Here is the accuracy results from KNN, which is significantly less."
   ]
  },
  {
   "cell_type": "code",
   "execution_count": 10,
   "id": "8802af31",
   "metadata": {
    "execution": {
     "iopub.execute_input": "2023-10-16T15:32:19.553359Z",
     "iopub.status.busy": "2023-10-16T15:32:19.552918Z",
     "iopub.status.idle": "2023-10-16T15:32:43.012811Z",
     "shell.execute_reply": "2023-10-16T15:32:43.011701Z"
    },
    "papermill": {
     "duration": 23.469727,
     "end_time": "2023-10-16T15:32:43.015147",
     "exception": false,
     "start_time": "2023-10-16T15:32:19.545420",
     "status": "completed"
    },
    "tags": []
   },
   "outputs": [
    {
     "data": {
      "image/png": "[encoded data removed]",
      "text/plain": [
       "<Figure size 1200x700 with 1 Axes>"
      ]
     },
     "metadata": {},
     "output_type": "display_data"
    }
   ],
   "source": [
    "acc = []\n",
    "wacc = []\n",
    "allks = range(1,30)\n",
    "\n",
    "# your code here\n",
    "from sklearn.neighbors import KNeighborsClassifier \n",
    "\n",
    "for k in allks:\n",
    "    knn = KNeighborsClassifier(n_neighbors=k)\n",
    "    knn.fit(X_train, y_train)\n",
    "    \n",
    "    #wacc.append(knn.score(data.train_x, data.train_y))\n",
    "    acc.append(knn.score(X_test, y_test))\n",
    "\n",
    "# you can use this code to create your plot    \n",
    "fig, ax = plt.subplots(nrows=1,ncols=1,figsize=(12,7))\n",
    "ax.plot(allks, acc, marker=\"o\", color=\"steelblue\", lw=3, label=\"unweighted\")\n",
    "ax.set_xlabel(\"number neighbors\", fontsize=16)\n",
    "ax.set_ylabel(\"accuracy\", fontsize=16)\n",
    "plt.xticks(range(1,31,2))\n",
    "ax.grid(alpha=0.25)"
   ]
  },
  {
   "cell_type": "markdown",
   "id": "edbf4dbf",
   "metadata": {
    "papermill": {
     "duration": 0.006763,
     "end_time": "2023-10-16T15:32:43.029017",
     "exception": false,
     "start_time": "2023-10-16T15:32:43.022254",
     "status": "completed"
    },
    "tags": []
   },
   "source": [
    "Although there are several features in this dataset, AdaBoost would perform well for the amount of features we have in our DataFrame. We will calculate the accuracy for Boosting methods"
   ]
  },
  {
   "cell_type": "code",
   "execution_count": 11,
   "id": "29be3da7",
   "metadata": {
    "execution": {
     "iopub.execute_input": "2023-10-16T15:32:43.045741Z",
     "iopub.status.busy": "2023-10-16T15:32:43.045037Z",
     "iopub.status.idle": "2023-10-16T15:32:43.979940Z",
     "shell.execute_reply": "2023-10-16T15:32:43.978890Z"
    },
    "papermill": {
     "duration": 0.946241,
     "end_time": "2023-10-16T15:32:43.982212",
     "exception": false,
     "start_time": "2023-10-16T15:32:43.035971",
     "status": "completed"
    },
    "tags": []
   },
   "outputs": [
    {
     "name": "stdout",
     "output_type": "stream",
     "text": [
      "Accuracy: 0.819485174323884\n",
      "Precision: 0.6621848739495798\n"
     ]
    }
   ],
   "source": [
    "#import AdaBoost\n",
    "from sklearn.ensemble import AdaBoostClassifier\n",
    "\n",
    "#Create Adaboost model\n",
    "ada = AdaBoostClassifier()\n",
    "model = ada.fit(X_train, y_train)\n",
    "\n",
    "#Predict the response for test dataset\n",
    "y_pred1 = model.predict(X_test)\n",
    "\n",
    "#calculate accuracy\n",
    "accuracyAda = accuracy_score(y_test, y_pred1)\n",
    "print(\"Accuracy:\", accuracyAda)\n",
    "\n",
    "#calculate precision\n",
    "precisionAda = precision_score(y_test, y_pred1)\n",
    "print(\"Precision:\", precisionAda)"
   ]
  },
  {
   "cell_type": "markdown",
   "id": "87cbefed",
   "metadata": {
    "papermill": {
     "duration": 0.006588,
     "end_time": "2023-10-16T15:32:43.995646",
     "exception": false,
     "start_time": "2023-10-16T15:32:43.989058",
     "status": "completed"
    },
    "tags": []
   },
   "source": [
    "As we can see, AdaBoost performed slighly more accurate against RF. While both models would be great choices for predicting the question, AdaBoost performed better overall"
   ]
  },
  {
   "cell_type": "markdown",
   "id": "88b74c2c",
   "metadata": {
    "papermill": {
     "duration": 0.006654,
     "end_time": "2023-10-16T15:32:44.009151",
     "exception": false,
     "start_time": "2023-10-16T15:32:44.002497",
     "status": "completed"
    },
    "tags": []
   },
   "source": [
    "Lastly, I've included logistic regression for comparison. Unfortunately, this model does not produce as great as results. This could be a result of the various features that need to be accounted for."
   ]
  },
  {
   "cell_type": "code",
   "execution_count": 12,
   "id": "7dc49c5c",
   "metadata": {
    "execution": {
     "iopub.execute_input": "2023-10-16T15:32:44.024825Z",
     "iopub.status.busy": "2023-10-16T15:32:44.024464Z",
     "iopub.status.idle": "2023-10-16T15:32:44.173696Z",
     "shell.execute_reply": "2023-10-16T15:32:44.171977Z"
    },
    "papermill": {
     "duration": 0.163559,
     "end_time": "2023-10-16T15:32:44.179869",
     "exception": false,
     "start_time": "2023-10-16T15:32:44.016310",
     "status": "completed"
    },
    "tags": []
   },
   "outputs": [
    {
     "name": "stdout",
     "output_type": "stream",
     "text": [
      "Linear Regression Scores: 0.7606169219072445\n"
     ]
    }
   ],
   "source": [
    "from sklearn.linear_model import LogisticRegression\n",
    "lr = LogisticRegression(solver = 'liblinear')\n",
    "lr.fit(X_train, y_train)\n",
    "lr_score = lr.score(X_test, y_test)\n",
    "print(\"Linear Regression Scores: \" + str(lr_score))"
   ]
  },
  {
   "cell_type": "markdown",
   "id": "a4ebe2aa",
   "metadata": {
    "papermill": {
     "duration": 0.019832,
     "end_time": "2023-10-16T15:32:44.218297",
     "exception": false,
     "start_time": "2023-10-16T15:32:44.198465",
     "status": "completed"
    },
    "tags": []
   },
   "source": [
    "In conclusion, while RandomForest and Boosting Models (in this case, AdaBoosting) both generate similar accuracy, using Boosting would best predict individuals making above 50k. "
   ]
  }
 ],
 "metadata": {
  "kernelspec": {
   "display_name": "Python 3",
   "language": "python",
   "name": "python3"
  },
  "language_info": {
   "codemirror_mode": {
    "name": "ipython",
    "version": 3
   },
   "file_extension": ".py",
   "mimetype": "text/x-python",
   "name": "python",
   "nbconvert_exporter": "python",
   "pygments_lexer": "ipython3",
   "version": "3.10.12"
  },
  "papermill": {
   "default_parameters": {},
   "duration": 36.290195,
   "end_time": "2023-10-16T15:32:44.969729",
   "environment_variables": {},
   "exception": null,
   "input_path": "__notebook__.ipynb",
   "output_path": "__notebook__.ipynb",
   "parameters": {},
   "start_time": "2023-10-16T15:32:08.679534",
   "version": "2.4.0"
  }
 },
 "nbformat": 4,
 "nbformat_minor": 5
}
